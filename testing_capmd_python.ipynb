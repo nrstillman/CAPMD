{
 "cells": [
  {
   "cell_type": "code",
   "execution_count": 2,
   "metadata": {},
   "outputs": [],
   "source": [
    "from matplotlib import animation, rc\n",
    "import matplotlib.pyplot as plt\n",
    "from matplotlib.collections import PatchCollection\n",
    "from IPython.display import HTML\n",
    "\n",
    "import vtktools as vtk\n",
    "\n",
    "import numpy as np\n",
    "import pickle\n"
   ]
  },
  {
   "cell_type": "code",
   "execution_count": 3,
   "metadata": {},
   "outputs": [
    {
     "data": {
      "text/plain": [
       "['Parameters',\n",
       " 'VectorInt',\n",
       " '__doc__',\n",
       " '__file__',\n",
       " '__loader__',\n",
       " '__name__',\n",
       " '__package__',\n",
       " '__spec__',\n",
       " 'particle',\n",
       " 'simulation']"
      ]
     },
     "execution_count": 3,
     "metadata": {},
     "output_type": "execute_result"
    }
   ],
   "source": [
    "import sys\n",
    "sys.path.insert(0,\"cmake-build-debug/\")\n",
    "import capmd\n",
    "\n",
    "dir(capmd)"
   ]
  },
  {
   "cell_type": "markdown",
   "metadata": {},
   "source": [
    "## Example simulation run from here"
   ]
  },
  {
   "cell_type": "code",
   "execution_count": 3,
   "metadata": {},
   "outputs": [],
   "source": [
    "sim = capmd.simulation();"
   ]
  },
  {
   "cell_type": "code",
   "execution_count": 4,
   "metadata": {},
   "outputs": [],
   "source": [
    "sim.N = 10;\n",
    "sim.dt = 0.01"
   ]
  },
  {
   "cell_type": "code",
   "execution_count": 5,
   "metadata": {},
   "outputs": [
    {
     "data": {
      "text/plain": [
       "250"
      ]
     },
     "execution_count": 5,
     "metadata": {},
     "output_type": "execute_result"
    }
   ],
   "source": [
    "sim.initialise();\n",
    "p = sim.getParticle(0);\n",
    "x = p.getPosition();\n",
    "sim.popSize()"
   ]
  },
  {
   "cell_type": "code",
   "execution_count": 6,
   "metadata": {},
   "outputs": [],
   "source": [
    "cutoff = 2.5\n",
    "#sim.cutoff =cutoff\n",
    "\n",
    "sim.tau = 10\n",
    "# sim.factive = 0.1"
   ]
  },
  {
   "cell_type": "code",
   "execution_count": 7,
   "metadata": {},
   "outputs": [],
   "source": [
    "# sim.initialise();\n",
    "# p = sim.getParticle(0);\n",
    "# x = p.getPosition();\n",
    "# sim.popSize()"
   ]
  },
  {
   "cell_type": "code",
   "execution_count": 8,
   "metadata": {},
   "outputs": [
    {
     "data": {
      "text/plain": [
       "range(0, 378)"
      ]
     },
     "execution_count": 8,
     "metadata": {},
     "output_type": "execute_result"
    }
   ],
   "source": [
    "N = sim.popSize()\n",
    "NB = sim.boundarySize()\n",
    "\n",
    "a = range(N + NB)\n",
    "a"
   ]
  },
  {
   "cell_type": "code",
   "execution_count": 9,
   "metadata": {},
   "outputs": [],
   "source": [
    "index = capmd.VectorInt(a)"
   ]
  },
  {
   "cell_type": "code",
   "execution_count": 10,
   "metadata": {},
   "outputs": [],
   "source": [
    "a = sim.getPopulationPosition(index)\n",
    "r = sim.getPopulationRadius(index)\n",
    "\n",
    "b = sim.getBoundaryPosition()"
   ]
  },
  {
   "cell_type": "code",
   "execution_count": 11,
   "metadata": {},
   "outputs": [
    {
     "data": {
      "text/plain": [
       "[[-16.0, 16.0],\n",
       " [-15.0, 16.0],\n",
       " [-14.0, 16.0],\n",
       " [-13.0, 16.0],\n",
       " [-12.0, 16.0],\n",
       " [-11.0, 16.0],\n",
       " [-10.0, 16.0],\n",
       " [-9.0, 16.0],\n",
       " [-8.0, 16.0],\n",
       " [-7.0, 16.0],\n",
       " [-6.0, 16.0],\n",
       " [-5.0, 16.0],\n",
       " [-4.0, 16.0],\n",
       " [-3.0, 16.0],\n",
       " [-2.0, 16.0],\n",
       " [-1.0, 16.0],\n",
       " [0.0, 16.0],\n",
       " [1.0, 16.0],\n",
       " [2.0, 16.0],\n",
       " [3.0, 16.0],\n",
       " [4.0, 16.0],\n",
       " [5.0, 16.0],\n",
       " [6.0, 16.0],\n",
       " [7.0, 16.0],\n",
       " [8.0, 16.0],\n",
       " [9.0, 16.0],\n",
       " [10.0, 16.0],\n",
       " [11.0, 16.0],\n",
       " [12.0, 16.0],\n",
       " [13.0, 16.0],\n",
       " [14.0, 16.0],\n",
       " [15.0, 16.0],\n",
       " [16.0, -16.0],\n",
       " [16.0, -15.0],\n",
       " [16.0, -14.0],\n",
       " [16.0, -13.0],\n",
       " [16.0, -12.0],\n",
       " [16.0, -11.0],\n",
       " [16.0, -10.0],\n",
       " [16.0, -9.0],\n",
       " [16.0, -8.0],\n",
       " [16.0, -7.0],\n",
       " [16.0, -6.0],\n",
       " [16.0, -5.0],\n",
       " [16.0, -4.0],\n",
       " [16.0, -3.0],\n",
       " [16.0, -2.0],\n",
       " [16.0, -1.0],\n",
       " [16.0, 0.0],\n",
       " [16.0, 1.0],\n",
       " [16.0, 2.0],\n",
       " [16.0, 3.0],\n",
       " [16.0, 4.0],\n",
       " [16.0, 5.0],\n",
       " [16.0, 6.0],\n",
       " [16.0, 7.0],\n",
       " [16.0, 8.0],\n",
       " [16.0, 9.0],\n",
       " [16.0, 10.0],\n",
       " [16.0, 11.0],\n",
       " [16.0, 12.0],\n",
       " [16.0, 13.0],\n",
       " [16.0, 14.0],\n",
       " [16.0, 15.0],\n",
       " [-16.0, -16.0],\n",
       " [-15.0, -16.0],\n",
       " [-14.0, -16.0],\n",
       " [-13.0, -16.0],\n",
       " [-12.0, -16.0],\n",
       " [-11.0, -16.0],\n",
       " [-10.0, -16.0],\n",
       " [-9.0, -16.0],\n",
       " [-8.0, -16.0],\n",
       " [-7.0, -16.0],\n",
       " [-6.0, -16.0],\n",
       " [-5.0, -16.0],\n",
       " [-4.0, -16.0],\n",
       " [-3.0, -16.0],\n",
       " [-2.0, -16.0],\n",
       " [-1.0, -16.0],\n",
       " [0.0, -16.0],\n",
       " [1.0, -16.0],\n",
       " [2.0, -16.0],\n",
       " [3.0, -16.0],\n",
       " [4.0, -16.0],\n",
       " [5.0, -16.0],\n",
       " [6.0, -16.0],\n",
       " [7.0, -16.0],\n",
       " [8.0, -16.0],\n",
       " [9.0, -16.0],\n",
       " [10.0, -16.0],\n",
       " [11.0, -16.0],\n",
       " [12.0, -16.0],\n",
       " [13.0, -16.0],\n",
       " [14.0, -16.0],\n",
       " [15.0, -16.0],\n",
       " [-16.0, -16.0],\n",
       " [-16.0, -15.0],\n",
       " [-16.0, -14.0],\n",
       " [-16.0, -13.0],\n",
       " [-16.0, -12.0],\n",
       " [-16.0, -11.0],\n",
       " [-16.0, -10.0],\n",
       " [-16.0, -9.0],\n",
       " [-16.0, -8.0],\n",
       " [-16.0, -7.0],\n",
       " [-16.0, -6.0],\n",
       " [-16.0, -5.0],\n",
       " [-16.0, -4.0],\n",
       " [-16.0, -3.0],\n",
       " [-16.0, -2.0],\n",
       " [-16.0, -1.0],\n",
       " [-16.0, 0.0],\n",
       " [-16.0, 1.0],\n",
       " [-16.0, 2.0],\n",
       " [-16.0, 3.0],\n",
       " [-16.0, 4.0],\n",
       " [-16.0, 5.0],\n",
       " [-16.0, 6.0],\n",
       " [-16.0, 7.0],\n",
       " [-16.0, 8.0],\n",
       " [-16.0, 9.0],\n",
       " [-16.0, 10.0],\n",
       " [-16.0, 11.0],\n",
       " [-16.0, 12.0],\n",
       " [-16.0, 13.0],\n",
       " [-16.0, 14.0],\n",
       " [-16.0, 15.0],\n",
       " [-10.534541246111434, 3.6464210707232736],\n",
       " [-10.238585972667773, 0.9144440680995181],\n",
       " [-0.23039720117469076, 5.610699258907928],\n",
       " [2.5308977584563532, -12.215687276173874],\n",
       " [-0.5723024540317667, -14.39865716573717],\n",
       " [-4.34831383437933, -3.412517762249172],\n",
       " [-6.8362187419317175, 9.483672524809354],\n",
       " [9.549353107501645, 6.0067935693733086],\n",
       " [9.121957058366808, -1.020505746968372],\n",
       " [-1.6598465020060882, -11.66857566450478],\n",
       " [10.955860468854938, 12.326535201851286],\n",
       " [-13.681359006530325, -3.399671224252097],\n",
       " [10.322525267432878, 12.039919393781963],\n",
       " [13.053950033609429, 5.411301515206047],\n",
       " [-10.393519423219933, 11.182348785940784],\n",
       " [-7.672521301116438, -1.7946599074934988],\n",
       " [-8.531502439993364, -13.742280571982677],\n",
       " [14.147380835408184, -14.865737111085346],\n",
       " [7.406095196126202, -14.847884382936153],\n",
       " [6.2510690322556925, 7.537202559059068],\n",
       " [-4.850755406707422, -9.9244635493219],\n",
       " [-13.257923658186256, 9.33670461420454],\n",
       " [-7.867839244781962, -7.029705490324306],\n",
       " [-3.2935889406555976, 0.5727783606848225],\n",
       " [-10.893028029713353, -2.4174726073637345],\n",
       " [7.9842404225092976, -4.0786145538259175],\n",
       " [12.883728525642375, 1.0084548420155037],\n",
       " [4.195358768805548, 6.713230102479501],\n",
       " [7.635135192196769, 5.678635586537518],\n",
       " [6.988054545507287, -2.130138164323159],\n",
       " [-2.18638857851769, 14.450049988276103],\n",
       " [-4.676779819937532, -9.814722854930594],\n",
       " [-13.349719046149982, -7.820588401678698],\n",
       " [0.4637270423490236, 11.475328384065719],\n",
       " [8.40267506376216, 3.521692239317833],\n",
       " [4.671583016953949, 5.022967917114508],\n",
       " [14.315857410237774, -1.2165397727620264],\n",
       " [13.074675993258825, -0.3926221556185855],\n",
       " [-8.942190495817512, 5.515490698158748],\n",
       " [8.273495367589659, 12.280961669784425],\n",
       " [14.214379936803311, -14.266098890583764],\n",
       " [9.128378670636828, 0.9005406262163351],\n",
       " [14.748325166338565, -5.812278865793478],\n",
       " [8.177513521251994, -4.233636371126383],\n",
       " [-8.070308993654864, -13.023753626765192],\n",
       " [-1.6411756544611538, -0.030093008378568875],\n",
       " [3.110008326193745, 10.46939737221749],\n",
       " [-12.69963051468654, 5.549436885563274],\n",
       " [3.655581036590292, 1.4779973329938112],\n",
       " [-0.9489787232381047, 13.143572661643097],\n",
       " [12.357840760165557, -12.11686183870997],\n",
       " [-0.1543985026185668, -1.2028671083846771],\n",
       " [-11.238008159709297, -11.578723429399606],\n",
       " [3.04669436756122, -1.6586801679702083],\n",
       " [7.314731421962004, -13.10720319205443],\n",
       " [-8.104790475667086, -12.122315057958717],\n",
       " [-13.180015777138529, -8.079164521964385],\n",
       " [-5.252089904430085, -8.376138565542544],\n",
       " [-8.766161549078229, -7.6268544232556],\n",
       " [14.338096057847995, -14.518159680572072],\n",
       " [5.475298831296578, 3.445717104540945],\n",
       " [-14.833154098171052, 1.4185842421927486],\n",
       " [11.38888318713212, 3.2825552621903187],\n",
       " [-6.297559025357613, -9.140561825314666],\n",
       " [9.83200130094597, 13.105750547929718],\n",
       " [-5.249488396467413, -1.5599143412080934],\n",
       " [-3.2100182461954576, -2.796820643737405],\n",
       " [-2.452484338608536, 8.606077556720164],\n",
       " [2.8423204849476633, -12.741736489214343],\n",
       " [-5.010527846338263, -3.189002387716964],\n",
       " [4.224519771949549, 1.2830992040447442],\n",
       " [3.503534729908063, -14.70096003230499],\n",
       " [-2.8593632750747617, 10.743596538143516],\n",
       " [2.1018602909944772, 5.869884473698704],\n",
       " [-13.610028308911787, -9.870615882760557],\n",
       " [-6.171675179990708, -5.82453536116999],\n",
       " [1.5736001745322092, 11.911486933863095],\n",
       " [7.965777951967211, -2.716388911514973],\n",
       " [10.696615013790673, -0.1979482183886494],\n",
       " [-6.038035603546882, 0.43093050117417486],\n",
       " [-8.474893137105116, 1.3446701835311792],\n",
       " [3.3119219807235623, 5.087780540953507],\n",
       " [-12.347166313043768, -10.55003796351421],\n",
       " [-2.4685368972908703, 12.51030360867736],\n",
       " [14.766514488372547, 1.4219822862666798],\n",
       " [0.6687792028778206, 14.16883615374692],\n",
       " [-2.191474657175701, 6.643569419769804],\n",
       " [-1.275440333020204, -8.822289083569393],\n",
       " [5.554269860399974, -3.783370904667331],\n",
       " [5.628505968346889, 14.426094013970776],\n",
       " [8.614758312683371, 0.35117422615227656],\n",
       " [7.629405989418433, 4.5483592724525],\n",
       " [-4.851649724661516, -1.5646582771361317],\n",
       " [2.7170397735400686, -6.8345171085695675],\n",
       " [8.663753664227672, -8.354932603383139],\n",
       " [10.338010932959804, 8.688492574850152],\n",
       " [-9.444654017863188, -1.856460029158905],\n",
       " [-6.9281403454392265, 14.427629849231044],\n",
       " [-14.667855049960375, 11.643537297874186],\n",
       " [0.2053240334623263, 4.2555541991443135],\n",
       " [3.0836240098828593, 13.735557574266533],\n",
       " [-3.5101577917998794, 2.9935248089378943],\n",
       " [-13.683740865528327, -14.591187570199857],\n",
       " [14.10873412342702, -11.351508915882906],\n",
       " [-2.9386338417041022, 6.186807970984346],\n",
       " [2.8735725956565727, 13.43428797365384],\n",
       " [4.464250728172765, 8.911877543030064],\n",
       " [3.0746886868131416, -11.720103754889948],\n",
       " [13.208024576831312, 13.523942229709654],\n",
       " [9.910167032680311, 9.277109031656277],\n",
       " [-2.871330435134325, 10.682384686132387],\n",
       " [-10.396024816399486, 12.008260138279937],\n",
       " [5.842223179728138, -14.678978771161038],\n",
       " [-11.496373427349681, 2.8358761147572165],\n",
       " [2.989178880746559, 7.648808223889798],\n",
       " [10.528116840532842, 7.54003659817096],\n",
       " [14.058200037630973, -9.065448310669385],\n",
       " [12.408138163518984, -2.998834280419829],\n",
       " [-4.866999214658172, -4.568691643713513],\n",
       " [14.71526689149848, 12.441156438636447],\n",
       " [10.692747772319436, -6.915463347838004],\n",
       " [8.4314523937069, -0.36097780698910287],\n",
       " [0.2530507067668408, -11.147399213447072],\n",
       " [3.264564034003387, -13.62107175923485],\n",
       " [12.97856032528035, -3.8788927149072276],\n",
       " [8.059820430493804, -2.6509272271836446],\n",
       " [1.8237082969540341, -10.090300997918307],\n",
       " [-2.7604676600598896, -12.690477353856574],\n",
       " [2.730250305026388, 11.108974633337072],\n",
       " [3.79674773247328, 4.488466205254786],\n",
       " [-11.447528499072314, -3.4935060317579265],\n",
       " [2.95704500804705, -0.3157311638118293],\n",
       " [-9.863068073372132, -3.362284502787485],\n",
       " [-10.684202140446578, -11.483220322561984],\n",
       " [5.370449597345784, -4.878035126154227],\n",
       " [-3.215320106156086, -11.509869570247306],\n",
       " [-3.205225395352254, 0.2246173938849183],\n",
       " [-3.17117155733521, 6.047451652977042],\n",
       " [-13.95336700076278, -2.4599836293893054],\n",
       " [-0.23593451177240654, 1.827653671605446],\n",
       " [-2.712626819424966, 4.494098666782296],\n",
       " [6.399108024108196, 9.502525126545237],\n",
       " [-14.058372517691563, 14.779473074250394],\n",
       " [-3.9878842308024702, 8.624403596415924],\n",
       " [1.0317407476368023, -7.0166843776088985],\n",
       " [6.849186358158996, 11.313888626678384],\n",
       " [9.762913436921405, -0.09768111096909116],\n",
       " [-11.247711647227776, 10.926710636355253],\n",
       " [6.251923262011734, -0.6477087330434783],\n",
       " [8.655564164215717, 4.409529380401826],\n",
       " [1.505641125040661, 8.772759221438232],\n",
       " [-2.4909335098739587, 10.072279437260264],\n",
       " [-0.9477918001612545, -12.763371674170015],\n",
       " [-12.404806649836692, -2.7194741837989116],\n",
       " [3.928469636162456, 14.842246194457738],\n",
       " [3.984488535826347, -9.252654373670264],\n",
       " [12.350253776551408, 12.822707199848303],\n",
       " [0.6085659446420666, -7.824679927295565],\n",
       " [-6.662803412955768, 6.775791868753296],\n",
       " [-12.422629952403387, -10.666393179363386],\n",
       " [9.515114241719258, 12.852176211855603],\n",
       " [-0.6243208388531729, -13.775888368988756],\n",
       " [-0.6512515212935777, 3.7861586537904146],\n",
       " [10.558466184191246, 7.586064865376137],\n",
       " [-11.772541553693841, -7.2674065271651],\n",
       " [-3.8743967930348386, 3.790841324683203],\n",
       " [10.689382499805111, 9.025124638555225],\n",
       " [9.448735354529571, 14.320448772093775],\n",
       " [-9.074945870949605, -5.051518782891381],\n",
       " [3.1336794642854136, 4.402048035427097],\n",
       " [-5.240872845995362, -3.5162018189655617],\n",
       " [1.469759912533427, -8.698157380156402],\n",
       " [-6.120310581438751, 11.389956983347588],\n",
       " [11.985639375444965, -2.122357844240815],\n",
       " [3.6906132847099657, 13.402752275444008],\n",
       " [-14.061089008088189, 11.146950055802003],\n",
       " [-2.228696227602713, -14.597411656249374],\n",
       " [-7.791075880394786, -11.147470464010574],\n",
       " [0.6567826343121519, 9.276633613463021],\n",
       " [-14.998194355049089, 6.2729685333291565],\n",
       " [-1.0093868240254151, 2.159125036300539],\n",
       " [-9.57371480879867, -6.967625481374553],\n",
       " [-9.485373789357375, 2.400204506646373],\n",
       " [9.84458782955203, 10.592803177410596],\n",
       " [10.559477141101878, -8.053830742200434],\n",
       " [-0.5576945423845303, -6.625153417387374],\n",
       " [-5.557035167321419, -8.861371047649941],\n",
       " [-1.7234340724947084, -14.690583068580256],\n",
       " [-11.666500614174192, 10.269672869230082],\n",
       " [5.5131085382758895, 3.257987683868536],\n",
       " [-2.0742154725571282, -7.4968187446831065],\n",
       " [1.6939913153114083, -6.518072460740282],\n",
       " [-8.090580011895858, 11.181644693521802],\n",
       " [-14.259060633129836, 2.195707337495747],\n",
       " [-12.451012019378108, -2.2704831919094586],\n",
       " [-10.037342894503276, -9.6136256080548],\n",
       " [-9.358908202905422, -2.4494306216454587],\n",
       " [-7.21292334610479, -6.02345580211476],\n",
       " [0.7599976695403177, -13.474495676843821],\n",
       " [8.638960736225213, 3.6958914950313027],\n",
       " [6.732357451139262, 7.94202128240376],\n",
       " [10.426015079682546, 7.392401060178873],\n",
       " [8.352563605596199, -6.861696568300129],\n",
       " [-8.594788196711741, -4.585475258706704],\n",
       " [5.938300328318703, 6.586122763551922],\n",
       " [3.5513384684252225, 6.529213173407566],\n",
       " [-6.346801771479699, -7.347844190622234],\n",
       " [13.913237507815282, 0.3193796545960359],\n",
       " [2.931654036511273, -9.384079356397741],\n",
       " [13.391958976562726, -4.801151104086747],\n",
       " [2.0012063615945754, -7.350696525121788],\n",
       " [12.657730690745082, -6.993158945828849],\n",
       " [0.08517238220103085, -8.529405059527493],\n",
       " [12.899086236816496, 11.735978797227299],\n",
       " [-0.07139665200443235, 6.49503858237388],\n",
       " [8.465363111601526, 3.2850372329515896],\n",
       " [-8.544646276480684, 3.9631884205977705],\n",
       " [-1.2184368455939243, 11.43859742970485],\n",
       " [13.643701544513418, 5.730305682190375],\n",
       " [-13.220883564119799, -8.270963871116498],\n",
       " [-10.690021489258443, -7.821992027818594],\n",
       " [-13.234013630534378, 1.0527873729685522],\n",
       " [5.224558303304558, -6.942742478955118],\n",
       " [-3.636196412567816, 14.783323745643655],\n",
       " [0.5338197566515079, 11.180562372570117],\n",
       " [0.7300552853820752, -9.318330336534864],\n",
       " [-4.938067649646179, 5.2408435514991245],\n",
       " [9.663875455172843, 14.321550508876314],\n",
       " [-14.644327795215737, -10.950578003497574],\n",
       " [-10.3828190636229, 2.363661791369248],\n",
       " [-5.848859016576681, 9.433891728755338],\n",
       " [-8.615341442235646, 14.605320578970266],\n",
       " [-7.05112793291003, -0.677710836047854],\n",
       " [4.065854780169281, 8.114468380086757],\n",
       " [-5.786889352125333, 13.379189176148092],\n",
       " [-6.146541410277645, -6.615992815047508],\n",
       " [6.126966256446213, -0.5115751217532649],\n",
       " [13.402266269498696, -8.633330145880976],\n",
       " [12.751018973759805, -5.20540405493146],\n",
       " [2.7873466219311007, 4.346916859055878],\n",
       " [-5.259136684985241, 9.9051673632049],\n",
       " [-4.873046602424049, -10.513518853641832],\n",
       " [13.799210055325553, 7.943288388046261],\n",
       " [-14.433959851490425, 10.49688233734149],\n",
       " [2.885180353157547, 9.028781401059929],\n",
       " [-9.14726239828458, 11.85260754324065],\n",
       " [3.6948308082814743, 6.112742530146246],\n",
       " [-12.008754426824476, -7.133855331855192],\n",
       " [-14.861414102605469, -1.0408997710487915],\n",
       " [1.2491469513048703, 11.929074531361897]]"
      ]
     },
     "execution_count": 11,
     "metadata": {},
     "output_type": "execute_result"
    }
   ],
   "source": [
    "a"
   ]
  },
  {
   "cell_type": "code",
   "execution_count": 12,
   "metadata": {},
   "outputs": [],
   "source": [
    "x = []\n",
    "y = []\n",
    "for n in a:\n",
    "    x.append(n[0])\n",
    "    y.append(n[1])"
   ]
  },
  {
   "cell_type": "code",
   "execution_count": 13,
   "metadata": {},
   "outputs": [
    {
     "data": {
      "image/png": "[encoded data removed]",
      "text/plain": [
       "<Figure size 750x750 with 1 Axes>"
      ]
     },
     "metadata": {
      "needs_background": "light"
     },
     "output_type": "display_data"
    }
   ],
   "source": [
    "dpi = 75\n",
    "fig,ax = plt.subplots(figsize=(10,10), dpi=dpi)\n",
    "\n",
    "plt.scatter(x,y)\n",
    "plt.xlim(-25,25)\n",
    "plt.ylim(-25,25)\n",
    "plt.show()"
   ]
  },
  {
   "cell_type": "code",
   "execution_count": 14,
   "metadata": {},
   "outputs": [],
   "source": [
    "\n",
    "track_id = NB\n",
    "index = capmd.VectorInt([track_id])"
   ]
  },
  {
   "cell_type": "code",
   "execution_count": 15,
   "metadata": {},
   "outputs": [],
   "source": [
    "a = sim.getPopulationPosition(index)\n"
   ]
  },
  {
   "cell_type": "code",
   "execution_count": 16,
   "metadata": {},
   "outputs": [],
   "source": [
    "xp = []\n",
    "yp = []\n",
    "for n in range(len(index)):\n",
    "    xp.append(a[n][0])\n",
    "    yp.append(a[n][1])"
   ]
  },
  {
   "cell_type": "code",
   "execution_count": 17,
   "metadata": {},
   "outputs": [
    {
     "data": {
      "image/png": "[encoded data removed]",
      "text/plain": [
       "<Figure size 432x288 with 1 Axes>"
      ]
     },
     "metadata": {
      "needs_background": "light"
     },
     "output_type": "display_data"
    }
   ],
   "source": [
    "plt.scatter(x,y)\n",
    "plt.scatter(xp,yp, color = 'r')\n",
    "plt.xlim(-25,25)\n",
    "plt.ylim(-25,25)\n",
    "plt.show()"
   ]
  },
  {
   "cell_type": "code",
   "execution_count": 18,
   "metadata": {},
   "outputs": [],
   "source": [
    "index = capmd.VectorInt([0])"
   ]
  },
  {
   "cell_type": "code",
   "execution_count": 19,
   "metadata": {},
   "outputs": [
    {
     "name": "stdout",
     "output_type": "stream",
     "text": [
      "0\n"
     ]
    }
   ],
   "source": [
    "a = sim.getPopulationPosition(index)\n",
    "n = []\n",
    "xn = []\n",
    "yn = []\n",
    "\n",
    "for i in index:\n",
    "    print(i)\n",
    "    sim.getParticle(i)\n",
    "    pn = sim.getNeighbours(sim.getParticle(i));\n",
    "    n.append(sim.getPopulationPosition(pn))\n",
    "    for nx in sim.getPopulationPosition(pn):\n",
    "        xn.append(nx[0])\n",
    "        yn.append(nx[1])\n",
    "# xn\n",
    "# yn"
   ]
  },
  {
   "cell_type": "code",
   "execution_count": 20,
   "metadata": {},
   "outputs": [
    {
     "data": {
      "image/png": "[encoded data removed]",
      "text/plain": [
       "<Figure size 2100x1400 with 1 Axes>"
      ]
     },
     "metadata": {
      "needs_background": "light"
     },
     "output_type": "display_data"
    }
   ],
   "source": [
    "s = lambda x : [1e2*r for r in x]\n",
    "\n",
    "#s_linear = [20*n for n in range(len(x))]\n",
    "\n",
    "fig, ax = plt.subplots(dpi=350)\n",
    "x1,x2 = -25,25\n",
    "\n",
    "\n",
    "plt.xlim(x1,x2)\n",
    "plt.ylim(x1,x2)\n",
    "\n",
    "# for v in np.arange(x1, x2):\n",
    "#     ax.axvline(v - 0.5)\n",
    "#     ax.axvline(v + 0.5)\n",
    "#     ax.axhline(v - 0.5)\n",
    "#     ax.axhline(v + 0.5)\n",
    "    \n",
    "ax.set_xlim(x1, x2)\n",
    "ax.set_ylim(x1, x2)\n",
    "\n",
    "ax.set_aspect(1)\n",
    "fig.canvas.draw()\n",
    "s = ((ax.get_window_extent().width  / (x2-x1+1.) * 72./fig.dpi) ** 2)\n",
    "\n",
    "plt.scatter(x,y, color='b', s=s) #boundary\n",
    "plt.scatter(xn,yn, color = 'm', s=s) #near particles\n",
    "plt.scatter(xp,yp, color='r', s=s)  #tracking particle\n",
    "plt.scatter(xp,yp, color='k', s=5*cutoff*s, alpha=0.5) #influence\n",
    "\n",
    "plt.show()"
   ]
  },
  {
   "cell_type": "code",
   "execution_count": 21,
   "metadata": {},
   "outputs": [],
   "source": [
    "sim.move()\n"
   ]
  },
  {
   "cell_type": "markdown",
   "metadata": {},
   "source": [
    "## Generate trajectory for MSD here"
   ]
  },
  {
   "cell_type": "code",
   "execution_count": 22,
   "metadata": {},
   "outputs": [],
   "source": [
    "sim = capmd.simulation();"
   ]
  },
  {
   "cell_type": "code",
   "execution_count": 23,
   "metadata": {},
   "outputs": [],
   "source": [
    "sim.initialise()"
   ]
  },
  {
   "cell_type": "code",
   "execution_count": 1,
   "metadata": {},
   "outputs": [
    {
     "ename": "NameError",
     "evalue": "name 'NB' is not defined",
     "output_type": "error",
     "traceback": [
      "\u001b[0;31m---------------------------------------------------------------------------\u001b[0m",
      "\u001b[0;31mNameError\u001b[0m                                 Traceback (most recent call last)",
      "\u001b[0;32m<ipython-input-1-da405b84e84b>\u001b[0m in \u001b[0;36m<module>\u001b[0;34m\u001b[0m\n\u001b[1;32m      1\u001b[0m \u001b[0mtrajectory\u001b[0m \u001b[0;34m=\u001b[0m \u001b[0;34m[\u001b[0m\u001b[0;34m]\u001b[0m\u001b[0;34m\u001b[0m\u001b[0;34m\u001b[0m\u001b[0m\n\u001b[1;32m      2\u001b[0m \u001b[0mNt\u001b[0m \u001b[0;34m=\u001b[0m \u001b[0mint\u001b[0m\u001b[0;34m(\u001b[0m\u001b[0;36m1e6\u001b[0m\u001b[0;34m)\u001b[0m\u001b[0;34m\u001b[0m\u001b[0;34m\u001b[0m\u001b[0m\n\u001b[0;32m----> 3\u001b[0;31m \u001b[0mtrack_id\u001b[0m \u001b[0;34m=\u001b[0m \u001b[0mNB\u001b[0m\u001b[0;34m\u001b[0m\u001b[0;34m\u001b[0m\u001b[0m\n\u001b[0m",
      "\u001b[0;31mNameError\u001b[0m: name 'NB' is not defined"
     ]
    }
   ],
   "source": [
    "trajectory = []\n",
    "Nt = int(1e6)\n",
    "track_id = NB"
   ]
  },
  {
   "cell_type": "markdown",
   "metadata": {},
   "source": [
    "# "
   ]
  },
  {
   "cell_type": "code",
   "execution_count": null,
   "metadata": {},
   "outputs": [],
   "source": [
    "# for t in range(Nt):\n",
    "#     sim.move()\n",
    "#     a = sim.getPopulationPosition([track_id])\n",
    "#     if t % 10000 == 0:\n",
    "#         print(t)\n",
    "\n",
    "#     trajectory.append(a)\n",
    "# trajectory = np.array([np.array(xi) for xi in trajectory]"
   ]
  },
  {
   "cell_type": "code",
   "execution_count": null,
   "metadata": {},
   "outputs": [],
   "source": []
  },
  {
   "cell_type": "code",
   "execution_count": null,
   "metadata": {},
   "outputs": [],
   "source": [
    "# # pickle.dump( trajectory, open( \"trajectory.p\", \"wb\" ) )\n",
    "# trajectory = pickle.load( open( \"trajectory.p\", \"rb\" ) )\n"
   ]
  },
  {
   "cell_type": "code",
   "execution_count": null,
   "metadata": {},
   "outputs": [],
   "source": []
  },
  {
   "cell_type": "code",
   "execution_count": null,
   "metadata": {},
   "outputs": [],
   "source": [
    "def MSD(trajectory):\n",
    "    r = []\n",
    "    for x in trajectory:\n",
    "        r.append(np.sqrt(x[0][0]**2 + x[0][1]**2))\n",
    "    diff = np.diff(r)\n",
    "    diff_sq = diff**2\n",
    "    MSD = np.mean(diff_sq)\n",
    "    return MSD"
   ]
  },
  {
   "cell_type": "code",
   "execution_count": null,
   "metadata": {},
   "outputs": [],
   "source": []
  },
  {
   "cell_type": "code",
   "execution_count": null,
   "metadata": {},
   "outputs": [],
   "source": []
  },
  {
   "cell_type": "code",
   "execution_count": null,
   "metadata": {},
   "outputs": [],
   "source": []
  },
  {
   "cell_type": "code",
   "execution_count": null,
   "metadata": {},
   "outputs": [],
   "source": []
  },
  {
   "cell_type": "markdown",
   "metadata": {},
   "source": [
    "## Example animation using Python from here"
   ]
  },
  {
   "cell_type": "code",
   "execution_count": null,
   "metadata": {},
   "outputs": [],
   "source": []
  },
  {
   "cell_type": "code",
   "execution_count": null,
   "metadata": {},
   "outputs": [],
   "source": [
    "index = capmd.VectorInt(range(N + NB))\n",
    "\n",
    "a = sim.getPopulationPosition(index)\n",
    "x = []\n",
    "y = []\n",
    "xp = []\n",
    "yp = []\n",
    "\n",
    "for n in range(len(index)):\n",
    "    x.append(a[n][0])\n",
    "    y.append(a[n][1])"
   ]
  },
  {
   "cell_type": "code",
   "execution_count": null,
   "metadata": {},
   "outputs": [],
   "source": []
  },
  {
   "cell_type": "code",
   "execution_count": null,
   "metadata": {},
   "outputs": [
    {
     "data": {
      "image/png": "[encoded data removed]",
      "text/plain": [
       "<Figure size 750x750 with 1 Axes>"
      ]
     },
     "metadata": {
      "needs_background": "light"
     },
     "output_type": "display_data"
    }
   ],
   "source": [
    "\n",
    "# First set up the figure, the axis, and the plot element we want to animate\n",
    "fig, ax = plt.subplots(figsize=(10,10), dpi=dpi)\n",
    "\n",
    "ax.set_xlim(( -25,25))\n",
    "ax.set_ylim((-25, 25))\n",
    "\n",
    "c = np.random.rand(len(index),3)\n",
    "scat1 = ax.scatter(x, y, s=60,  c='blue', vmin=-1.5, vmax=2, cmap=\"hsv\")\n",
    "scat2 = ax.scatter(xn, yn, s=60,  c='black')\n",
    "scat3 = ax.scatter(xp, yp, s=60,  c='red')\n",
    "line, = ax.plot(xp, yp, '--r')\n"
   ]
  },
  {
   "cell_type": "code",
   "execution_count": null,
   "metadata": {},
   "outputs": [],
   "source": [
    "# initialization function: plot the background of each frame\n",
    "def init():\n",
    "    return (scat1,scat2,line)"
   ]
  },
  {
   "cell_type": "code",
   "execution_count": null,
   "metadata": {},
   "outputs": [],
   "source": [
    "# animation function. This is called sequentially\n",
    "def animate(i):\n",
    "    sim.move()\n",
    "    a = sim.getPopulationPosition(index)\n",
    "    p = sim.getPopulationPosition([track_id])\n",
    "\n",
    "    x = []\n",
    "    y = []\n",
    "    xn = []\n",
    "    yn = []\n",
    "\n",
    "    for n in range(len(index)):\n",
    "        x.append(a[n][0])\n",
    "        y.append(a[n][1])\n",
    "        pn = sim.getNeighbours(sim.getParticle(0));\n",
    "        for nx in sim.getPopulationPosition(pn):\n",
    "            xn.append(nx[0])\n",
    "            yn.append(nx[1])\n",
    "        \n",
    "    scat1.set_offsets(np.c_[x, y])\n",
    "    scat2.set_offsets(np.c_[xn, yn])\n",
    "    xp.append(p[0][0])\n",
    "    yp.append(p[0][1])\n",
    "    line.set_data(xp,yp)\n",
    "    ax.set_title('t = {}, length of neighbourlist = {}'.format(i*sim.dt, len(xn)))\n",
    "    return (scat1,scat2, line)"
   ]
  },
  {
   "cell_type": "code",
   "execution_count": null,
   "metadata": {},
   "outputs": [],
   "source": [
    "# # # call the animator. blit=True means only re-draw the parts that have changed.\n",
    "anim = animation.FuncAnimation(fig, animate, init_func=init,\n",
    "                               frames=200, interval=200, blit=True)\n"
   ]
  },
  {
   "cell_type": "code",
   "execution_count": null,
   "metadata": {},
   "outputs": [],
   "source": [
    "HTML(anim.to_html5_video())\n"
   ]
  },
  {
   "cell_type": "code",
   "execution_count": null,
   "metadata": {},
   "outputs": [],
   "source": [
    "# anim.save('dt_0.01_factive_0.1_tau_10_N_250_L_30_wboundary.mp4')"
   ]
  },
  {
   "cell_type": "markdown",
   "metadata": {},
   "source": [
    "## VTK example here:"
   ]
  },
  {
   "cell_type": "code",
   "execution_count": null,
   "metadata": {},
   "outputs": [],
   "source": [
    "# vtk_writer = vtk.VTK_XML_Serial_Unstructured()\n"
   ]
  },
  {
   "cell_type": "code",
   "execution_count": null,
   "metadata": {},
   "outputs": [],
   "source": [
    "# for i in range(100):\n",
    "    \n",
    "#     sim.move()\n",
    "#     a = sim.getPopulationPosition(index)\n",
    "#     p = sim.getPopulationPosition([track_id])\n",
    "#     r = sim.getPopulationRadius(index)\n",
    "\n",
    "    \n",
    "#     x = []\n",
    "#     y = []\n",
    "#     z = []\n",
    "#     rn = []\n",
    "#     for n in range(len(index)):\n",
    "#         x.append(a[n][0])\n",
    "#         y.append(a[n][1])        \n",
    "#         z.append(0.0)\n",
    "#         rn.append(r[n])\n",
    "#     vtk_writer.snapshot(\"vtk_test_{}.vtu\".format(i), x, y, z, radii = rn)"
   ]
  },
  {
   "cell_type": "code",
   "execution_count": null,
   "metadata": {},
   "outputs": [],
   "source": [
    "# vtk_writer.writePVD(\"vtk_test.pvd\")"
   ]
  },
  {
   "cell_type": "code",
   "execution_count": null,
   "metadata": {},
   "outputs": [],
   "source": []
  }
 ],
 "metadata": {
  "kernelspec": {
   "display_name": "Python 3",
   "language": "python",
   "name": "python3"
  },
  "language_info": {
   "codemirror_mode": {
    "name": "ipython",
    "version": 3
   },
   "file_extension": ".py",
   "mimetype": "text/x-python",
   "name": "python",
   "nbconvert_exporter": "python",
   "pygments_lexer": "ipython3",
   "version": "3.7.3"
  },
  "toc": {
   "base_numbering": 1,
   "nav_menu": {},
   "number_sections": true,
   "sideBar": true,
   "skip_h1_title": false,
   "title_cell": "Table of Contents",
   "title_sidebar": "Contents",
   "toc_cell": false,
   "toc_position": {},
   "toc_section_display": true,
   "toc_window_display": false
  },
  "varInspector": {
   "cols": {
    "lenName": 16,
    "lenType": 16,
    "lenVar": 40
   },
   "kernels_config": {
    "python": {
     "delete_cmd_postfix": "",
     "delete_cmd_prefix": "del ",
     "library": "var_list.py",
     "varRefreshCmd": "print(var_dic_list())"
    },
    "r": {
     "delete_cmd_postfix": ") ",
     "delete_cmd_prefix": "rm(",
     "library": "var_list.r",
     "varRefreshCmd": "cat(var_dic_list()) "
    }
   },
   "types_to_exclude": [
    "module",
    "function",
    "builtin_function_or_method",
    "instance",
    "_Feature"
   ],
   "window_display": false
  }
 },
 "nbformat": 4,
 "nbformat_minor": 2
}
